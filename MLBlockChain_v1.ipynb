{
  "nbformat": 4,
  "nbformat_minor": 0,
  "metadata": {
    "colab": {
      "name": "MLBlockChain v1.ipynb",
      "provenance": [],
      "collapsed_sections": [],
      "authorship_tag": "ABX9TyMwBP0lfe7Dg0fj6945DnVH",
      "include_colab_link": true
    },
    "kernelspec": {
      "name": "python3",
      "display_name": "Python 3"
    },
    "language_info": {
      "name": "python"
    }
  },
  "cells": [
    {
      "cell_type": "markdown",
      "metadata": {
        "id": "view-in-github",
        "colab_type": "text"
      },
      "source": [
        "<a href=\"https://colab.research.google.com/github/Rajan-sust/MultiArmedBandit/blob/main/MLBlockChain_v1.ipynb\" target=\"_parent\"><img src=\"https://colab.research.google.com/assets/colab-badge.svg\" alt=\"Open In Colab\"/></a>"
      ]
    },
    {
      "cell_type": "code",
      "metadata": {
        "id": "TTlHXrVd1slM"
      },
      "source": [
        "%%bash\n",
        "\n",
        "# Up\n",
        "line=$(grep -n \"7:45:42\" ml_orderer1.tsv | awk '{print $1}' FS=\":\")\n",
        "tail +${line} ml_orderer1.tsv | cut -f 3 | head -n 80 > up.txt\n",
        "line=$(grep -n \"13:57:17\" ml_orderer1.tsv | awk '{print $1}' FS=\":\")\n",
        "tail +${line} ml_orderer1.tsv | cut -f 3 | head -n 50 >> up.txt\n",
        "\n",
        "# Down\n",
        "line=$(grep -n \"11:10:52\" ml_orderer1.tsv | awk '{print $1}' FS=\":\")\n",
        "tail +${line} ml_orderer1.tsv | cut -f 3 | head -n 35 > down.txt\n",
        "\n",
        "# Stable\n",
        "line=$(grep -n \"8:57:14\" ml_orderer1.tsv | awk '{print $1}' FS=\":\")\n",
        "tail +${line} ml_orderer1.tsv | cut -f 3 | head -n 100 > stable.txt"
      ],
      "execution_count": 100,
      "outputs": []
    },
    {
      "cell_type": "code",
      "metadata": {
        "id": "EkeP0Nij2ec0"
      },
      "source": [
        "def text_file_reader(filename, label):\n",
        "  with open(filename, mode='r', encoding='utf-8') as file:\n",
        "    data = file.read().splitlines()\n",
        "  samples = [float(x) for x in data]\n",
        "  # print(samples)\n",
        "  window = 6\n",
        "  features = []\n",
        "  for i in range(len(samples) - window + 1):\n",
        "    ref_idx = i\n",
        "    feature = [samples[k] - samples[ref_idx] for k in range(ref_idx + 1, ref_idx + window)]\n",
        "    features.append((feature, label))\n",
        "  return features\n"
      ],
      "execution_count": 101,
      "outputs": []
    },
    {
      "cell_type": "code",
      "metadata": {
        "id": "xbSz7k8zz5tX"
      },
      "source": [
        "up =  text_file_reader('up.txt', 2)\n",
        "stable = text_file_reader('stable.txt', 0)\n",
        "down = text_file_reader('down.txt', 1)"
      ],
      "execution_count": 102,
      "outputs": []
    },
    {
      "cell_type": "code",
      "metadata": {
        "id": "ZMc8yryo5eKh"
      },
      "source": [
        "balanced_features = []\n",
        "mn = min(len(up), len(stable), len(down))\n",
        "\n",
        "for i in range(mn):\n",
        "  balanced_features.append(up[i])\n",
        "  balanced_features.append(stable[i])\n",
        "  balanced_features.append(down[i])\n",
        "\n",
        "balanced_features.extend(up[mn:])\n",
        "balanced_features.extend(stable[mn:])\n",
        "balanced_features.extend(down[mn:])"
      ],
      "execution_count": 103,
      "outputs": []
    },
    {
      "cell_type": "code",
      "metadata": {
        "id": "jD9Lt7GBOW_8"
      },
      "source": [
        "import numpy as np"
      ],
      "execution_count": 104,
      "outputs": []
    },
    {
      "cell_type": "code",
      "metadata": {
        "id": "ypsd3zXY7KkO"
      },
      "source": [
        "# !pip install contextualbandits"
      ],
      "execution_count": null,
      "outputs": []
    },
    {
      "cell_type": "code",
      "metadata": {
        "id": "niQUGAPY5EKs"
      },
      "source": [
        "from sklearn.linear_model import SGDClassifier, LogisticRegression\n",
        "from copy import deepcopy\n",
        "from contextualbandits.online import ActiveExplorer, AdaptiveGreedy\n",
        "import numpy as np\n",
        "import pandas as pd"
      ],
      "execution_count": 105,
      "outputs": []
    },
    {
      "cell_type": "code",
      "metadata": {
        "id": "Xl7L3e7T7IzH"
      },
      "source": [
        "model = AdaptiveGreedy(base_algorithm=deepcopy(SGDClassifier(random_state=0, loss='log')), nchoices=3,\n",
        "                       smoothing=(1,2), beta_prior = None, decay_type = 'percentile', decay = 0.9997,\n",
        "                       batch_train = True, random_state = 4444)"
      ],
      "execution_count": 106,
      "outputs": []
    },
    {
      "cell_type": "code",
      "metadata": {
        "id": "q8M73UdL7jR1"
      },
      "source": [
        "avg_reward = dict()\n",
        "cnt = 0\n",
        "step = 0\n",
        "\n",
        "for feature, label in balanced_features:\n",
        "  \n",
        "  context = np.array([feature])\n",
        "  # print(context)\n",
        "  action = model.predict(context)\n",
        "  # print(action, label)\n",
        "  reward = (action[0] == label)\n",
        "  cnt += reward\n",
        "  step += 1\n",
        "  avg_reward[step] = (cnt) / (step)\n",
        "  print(f'iteration no: {step} with reward {avg_reward[step]}')\n",
        "  model.partial_fit(context, np.array([action]), np.array([[reward]]))"
      ],
      "execution_count": null,
      "outputs": []
    },
    {
      "cell_type": "code",
      "metadata": {
        "id": "EKWIlgRA8O6i"
      },
      "source": [
        "import matplotlib.pyplot as plt"
      ],
      "execution_count": 108,
      "outputs": []
    },
    {
      "cell_type": "code",
      "metadata": {
        "id": "7afwbz5v9xq8"
      },
      "source": [
        "x, fx = [], []\n",
        "for key, val in avg_reward.items():\n",
        "  x.append(key)\n",
        "  fx.append(val)"
      ],
      "execution_count": 109,
      "outputs": []
    },
    {
      "cell_type": "code",
      "metadata": {
        "colab": {
          "base_uri": "https://localhost:8080/",
          "height": 297
        },
        "id": "Tr1JM9xl90Ui",
        "outputId": "692c1780-0b8f-4d9a-a811-545cf68e7fd8"
      },
      "source": [
        "plt.plot(x, fx)\n",
        "plt.ylabel('Mean reward', fontsize=15)\n",
        "plt.xlabel('Iteration', fontsize=15)\n",
        "plt.grid()\n",
        "plt.xticks(np.arange(0, 251, 10), rotation=90)\n",
        "# plt.yticks(np.arange(0, , 25))\n",
        "plt.tight_layout()\n",
        "plt.savefig('Mean Reward.pdf')"
      ],
      "execution_count": 111,
      "outputs": [
        {
          "output_type": "display_data",
          "data": {
            "image/png": "[encoded data removed]",
            "text/plain": [
              "<Figure size 432x288 with 1 Axes>"
            ]
          },
          "metadata": {
            "needs_background": "light"
          }
        }
      ]
    },
    {
      "cell_type": "code",
      "metadata": {
        "id": "ClpcwAU495jg"
      },
      "source": [
        ""
      ],
      "execution_count": null,
      "outputs": []
    }
  ]
}